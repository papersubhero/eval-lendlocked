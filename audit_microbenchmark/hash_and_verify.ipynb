{
 "cells": [
  {
   "cell_type": "code",
   "execution_count": 6,
   "id": "2c8b6f22-8c42-46c9-8337-401089e684cd",
   "metadata": {},
   "outputs": [],
   "source": [
    "import ecdsa\n",
    "import hashlib\n",
    "import time"
   ]
  },
  {
   "cell_type": "code",
   "execution_count": 8,
   "id": "3d95c3d2-0925-448b-8afd-efe925890124",
   "metadata": {},
   "outputs": [
    {
     "name": "stdout",
     "output_type": "stream",
     "text": [
      "Hash Time\n",
      "0.00010609626770019531\n",
      "Verification Time\n",
      "0.0031158924102783203\n"
     ]
    }
   ],
   "source": [
    "priv_key = ecdsa.SigningKey.generate(curve=ecdsa.SECP256k1)\n",
    "public_key = priv_key.get_verifying_key()\n",
    "message = b\"HelloWorld!\"\n",
    "\n",
    "starthash = time.time()\n",
    "message_hash = hashlib.sha256(message).digest()\n",
    "endhash = time.time()\n",
    "print(\"Hash Time\")\n",
    "print(endhash-starthash)\n",
    "\n",
    "signature = priv_key.sign(message_hash)\n",
    "\n",
    "try:\n",
    "    startverify = time.time()\n",
    "    public_key.verify(signature, message_hash)\n",
    "    endverify = time.time()\n",
    "    print(\"Verification Time\")\n",
    "    print(endverify-startverify)\n",
    "except ecdsa.BadSignatureError:\n",
    "    print(\"Signature verified: False\")"
   ]
  },
  {
   "cell_type": "code",
   "execution_count": 2,
   "id": "eb4fcd2e-f2a3-4fa8-bce0-1ea034d435b3",
   "metadata": {},
   "outputs": [
    {
     "name": "stdout",
     "output_type": "stream",
     "text": [
      "Private key (32 bytes): b'170fdf4118b94d781d993ba654a693dc0c1b88ad9c6017d7e7ff011079993cfa'\n",
      "Public key (32 bytes):  b'97e82375935f2b5ebd163601fed1107ba7045c31f0a757102d9993ee7a5c02a5'\n",
      "Signature (64 bytes): b'44acbd0a6276525858308ca8024750fffa812003070f135b2c407d1c39cb2ac711ae2c3b9a53cb25353857d2ff1b54e4adb721795c88eb22073c39d064f66c00'\n",
      "The signature is valid.\n",
      "Verification Time\n",
      "0.0019571781158447266\n"
     ]
    }
   ],
   "source": [
    "import ed25519\n",
    "import time\n",
    "privKey, pubKey = ed25519.create_keypair()\n",
    "print(\"Private key (32 bytes):\", privKey.to_ascii(encoding='hex'))\n",
    "print(\"Public key (32 bytes): \", pubKey.to_ascii(encoding='hex'))\n",
    "\n",
    "msg = b'Message for Ed25519 signing'\n",
    "signature = privKey.sign(msg, encoding='hex')\n",
    "print(\"Signature (64 bytes):\", signature)\n",
    "\n",
    "try:\n",
    "    eddsastartverify = time.time()\n",
    "    pubKey.verify(signature, msg, encoding='hex')\n",
    "    eddsaendverify = time.time()\n",
    "    print(\"The signature is valid.\")\n",
    "    print(\"Verification Time\")\n",
    "    print(eddsaendverify-eddsastartverify)\n",
    "except:\n",
    "    print(\"Invalid signature!\")"
   ]
  },
  {
   "cell_type": "code",
   "execution_count": null,
   "id": "2c9d7ec5-fc9f-4557-88d9-ee656503668c",
   "metadata": {},
   "outputs": [],
   "source": []
  }
 ],
 "metadata": {
  "kernelspec": {
   "display_name": "Python 3 (ipykernel)",
   "language": "python",
   "name": "python3"
  },
  "language_info": {
   "codemirror_mode": {
    "name": "ipython",
    "version": 3
   },
   "file_extension": ".py",
   "mimetype": "text/x-python",
   "name": "python",
   "nbconvert_exporter": "python",
   "pygments_lexer": "ipython3",
   "version": "3.11.7"
  }
 },
 "nbformat": 4,
 "nbformat_minor": 5
}
