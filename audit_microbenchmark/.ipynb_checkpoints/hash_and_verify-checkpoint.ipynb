{
 "cells": [
  {
   "cell_type": "code",
   "execution_count": 6,
   "id": "2c8b6f22-8c42-46c9-8337-401089e684cd",
   "metadata": {},
   "outputs": [],
   "source": [
    "import ecdsa\n",
    "import hashlib\n",
    "import time"
   ]
  },
  {
   "cell_type": "code",
   "execution_count": 7,
   "id": "3d95c3d2-0925-448b-8afd-efe925890124",
   "metadata": {},
   "outputs": [
    {
     "ename": "AttributeError",
     "evalue": "'NoneType' object has no attribute 'digest'",
     "output_type": "error",
     "traceback": [
      "\u001b[0;31m---------------------------------------------------------------------------\u001b[0m",
      "\u001b[0;31mAttributeError\u001b[0m                            Traceback (most recent call last)",
      "Cell \u001b[0;32mIn[7], line 6\u001b[0m\n\u001b[1;32m      4\u001b[0m starthash \u001b[38;5;241m=\u001b[39m time\u001b[38;5;241m.\u001b[39mtime()\n\u001b[1;32m      5\u001b[0m hasher \u001b[38;5;241m=\u001b[39m hashlib\u001b[38;5;241m.\u001b[39msha256()\n\u001b[0;32m----> 6\u001b[0m message_hash \u001b[38;5;241m=\u001b[39m hasher\u001b[38;5;241m.\u001b[39mupdate(message)\u001b[38;5;241m.\u001b[39mdigest()\n\u001b[1;32m      7\u001b[0m signature \u001b[38;5;241m=\u001b[39m priv_key\u001b[38;5;241m.\u001b[39msign(message_hash)\n\u001b[1;32m      9\u001b[0m \u001b[38;5;28;01mtry\u001b[39;00m:\n",
      "\u001b[0;31mAttributeError\u001b[0m: 'NoneType' object has no attribute 'digest'"
     ]
    }
   ],
   "source": [
    "priv_key = ecdsa.SigningKey.generate(curve=ecdsa.SECP256k1)\n",
    "public_key = priv_key.get_verifying_key()\n",
    "message = b\"HelloWorld!\"\n",
    "\n",
    "starthash = time.time()\n",
    "message_hash = hashlib.sha256(message).digest()\n",
    "endhash = time.time()\n",
    "print(\"Hash Time\")\n",
    "print(endhash-starthash)\n",
    "\n",
    "signature = priv_key.sign(message_hash)\n",
    "\n",
    "try:\n",
    "    startverify = time.time()\n",
    "    public_key.verify(signature, message_hash)\n",
    "    endverify = time.time()\n",
    "    print(\"Verification Time\")\n",
    "    print(endverify-startverify)\n",
    "except ecdsa.BadSignatureError:\n",
    "    print(\"Signature verified: False\")"
   ]
  },
  {
   "cell_type": "code",
   "execution_count": null,
   "id": "eb4fcd2e-f2a3-4fa8-bce0-1ea034d435b3",
   "metadata": {},
   "outputs": [],
   "source": []
  }
 ],
 "metadata": {
  "kernelspec": {
   "display_name": "Python 3 (ipykernel)",
   "language": "python",
   "name": "python3"
  },
  "language_info": {
   "codemirror_mode": {
    "name": "ipython",
    "version": 3
   },
   "file_extension": ".py",
   "mimetype": "text/x-python",
   "name": "python",
   "nbconvert_exporter": "python",
   "pygments_lexer": "ipython3",
   "version": "3.11.7"
  }
 },
 "nbformat": 4,
 "nbformat_minor": 5
}
